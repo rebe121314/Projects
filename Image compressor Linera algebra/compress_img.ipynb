{
 "cells": [
  {
   "cell_type": "code",
   "execution_count": null,
   "metadata": {},
   "outputs": [],
   "source": [
    "import math\n",
    "form matplotlib import pyplot as plt\n",
    "import numpy as np\n",
    "\n",
    "from PIL import Image, ImageOps\n",
    "from itertools import islice\n",
    "\n",
    "T = np.array([[1,1,1,0,1,1,0,0,0], [1,1,1,0,-1,0,0,0],\n",
    "             [1,1,-1,0,0,1,0,0],[1,1,-1,0,0,-1,0,0],\n",
    "              [1,-1,0,1,0,0,1,0],[1,-1,0,1,0,0,-1,0],\n",
    "             [1,-1,0,1,0,0,0,1].[1,-1,0,-1,0,0,0,-1]])\n",
    "\n",
    "T_s = np.limalg.inv(T)\n",
    "\n",
    "def grey(image):\n",
    "    \"\"\"\n",
    "    Tramsfrom the image to grey scale sp it's\n",
    "    \"\"\"\n",
    "    image = ImageOps.grayscale(image)\n",
    "    dim=max(image.size))\n",
    "    return ImageOps.pad(image, (dim,dim))\n",
    "\n",
    "def trans_each_row(row):\n",
    "    final = []\n",
    "    row = np.array(row)\n",
    "    new = np.array_split(row,8)\n",
    "    for sec in new:\n",
    "        trans_sec = T_s.dot(sec)\n",
    "        for i in trans_sec:\n",
    "            final.append(i)\n",
    "    return final\n",
    "\n",
    "def treshold(arr, ep):\n",
    "    return np.where(np.abs(arr) < ep, 0,arr)\n",
    "\n",
    "def chnage_1(im):\n",
    "    for row in range(len(im)):\n",
    "        im[row] = trans_each_row(im[row])\n",
    "        \n",
    "    new = transhold(im, 50)\n",
    "    return new\n",
    "\n",
    "def stand_trans(row):\n",
    "    final = []\n",
    "    row = np.array(row)\n",
    "    new = np.array_split(row,8)\n",
    "    for sec in new:\n",
    "        trans_sec = T.dot(sec)\n",
    "        for i in trans_sec:\n",
    "            final.append(i)\n",
    "    return final\n",
    "\n",
    "\n",
    "def chnage_2(new):\n",
    "    for row in range(len(new)):\n",
    "        new[row] = trans_each_row(new[row])\n",
    "    return new\n",
    "\n",
    "im = Image.open('cute_duck_6464.jpg')\n",
    "im = np.array(grey(im))\n",
    "\n",
    "final = change_2(attempt1)\n",
    "\n",
    "new = PIL.image.formarray(final)\n",
    "newsize = (300,300)\n",
    "new1 = new.resize(newsize)\n",
    "new1"
   ]
  }
 ],
 "metadata": {
  "kernelspec": {
   "display_name": "Python 3",
   "language": "python",
   "name": "python3"
  },
  "language_info": {
   "codemirror_mode": {
    "name": "ipython",
    "version": 3
   },
   "file_extension": ".py",
   "mimetype": "text/x-python",
   "name": "python",
   "nbconvert_exporter": "python",
   "pygments_lexer": "ipython3",
   "version": "3.8.5"
  },
  "vscode": {
   "interpreter": {
    "hash": "f3914d439c54a27dd4d6bc052e2ab9398af84510d2115228b075a0b922772c00"
   }
  }
 },
 "nbformat": 4,
 "nbformat_minor": 2
}
